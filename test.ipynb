{
 "cells": [
  {
   "cell_type": "code",
   "execution_count": null,
   "metadata": {},
   "outputs": [],
   "source": [
    "import unittest\n",
    "from gcp_utils import constants\n",
    "from gcp_utils.tools.utils import format_as_json, query_collection, mock_context\n",
    "from firebase_admin import firestore, initialize_app\n",
    "\n",
    "from main import onUpdateFrame, onCreateWindow, onUpdateWindow\n",
    "\n",
    "initialize_app()\n",
    "\n",
    "UID = 'v2iHQmPIVfVW0IuhfZ1yCIegsB52'"
   ]
  },
  {
   "cell_type": "code",
   "execution_count": null,
   "metadata": {},
   "outputs": [],
   "source": [
    "database = firestore.client()\n",
    "frames_ref = database.collection(u'bpm_data_test').document(UID).collection(u'frames')\n",
    "\n",
    "# Add frame and trigger function\n",
    "frames_ref.add(constants.NEW_BPM_FRAME)\n",
    "doc = query_collection(frames_ref, 'fid', '==', '0')[0]\n",
    "data = format_as_json(constants.NEW_BPM_FRAME)[0]\n",
    "context = mock_context(doc.reference.path)"
   ]
  },
  {
   "cell_type": "code",
   "execution_count": null,
   "metadata": {},
   "outputs": [],
   "source": [
    "onUpdateFrame(data, context)\n",
    "\n",
    "# Get expected result\n",
    "expected_frame, expected_windows = constants.processed_frame_and_windows()\n",
    "expected_frame, expected_windows = format_as_json(expected_frame)[0], format_as_json(expected_windows)\n",
    "\n",
    "# Get actual result\n",
    "doc = query_collection(frames_ref, 'fid', '==', '0')[0]\n",
    "actual_frame = format_as_json(doc.to_dict())[0]\n",
    "\n",
    "windows_ref = database.collection(u'bpm_data_test').document(UID).collection(u'windows')\n",
    "docs = query_collection(windows_ref, 'fid', '==', '0')\n",
    "actual_windows = format_as_json([d.to_dict() for d in docs])"
   ]
  },
  {
   "cell_type": "code",
   "execution_count": null,
   "metadata": {},
   "outputs": [],
   "source": [
    "case = unittest.TestCase()\n",
    "case.assertCountEqual(dict(x=actual_frame, y=actual_windows), dict(x=expected_frame, y=expected_windows))"
   ]
  }
 ],
 "metadata": {
  "kernelspec": {
   "display_name": "gcp-utils-lIYEkGpv-py3.9",
   "language": "python",
   "name": "python3"
  },
  "language_info": {
   "codemirror_mode": {
    "name": "ipython",
    "version": 3
   },
   "file_extension": ".py",
   "mimetype": "text/x-python",
   "name": "python",
   "nbconvert_exporter": "python",
   "pygments_lexer": "ipython3",
   "version": "3.9.16"
  },
  "orig_nbformat": 4
 },
 "nbformat": 4,
 "nbformat_minor": 2
}
