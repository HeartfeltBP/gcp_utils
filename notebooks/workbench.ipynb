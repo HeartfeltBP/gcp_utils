{
 "cells": [
  {
   "cell_type": "code",
   "execution_count": 2,
   "metadata": {},
   "outputs": [],
   "source": [
    "import os\n",
    "import numpy as np\n",
    "from firebase_admin import firestore, initialize_app\n",
    "\n",
    "initialize_app()\n",
    "\n",
    "database = firestore.client()\n",
    "col = database.collection(u'heartfelt_data')"
   ]
  }
 ],
 "metadata": {
  "kernelspec": {
   "display_name": "gcp-utils-lIYEkGpv-py3.9",
   "language": "python",
   "name": "python3"
  },
  "language_info": {
   "codemirror_mode": {
    "name": "ipython",
    "version": 3
   },
   "file_extension": ".py",
   "mimetype": "text/x-python",
   "name": "python",
   "nbconvert_exporter": "python",
   "pygments_lexer": "ipython3",
   "version": "3.9.12"
  },
  "orig_nbformat": 4,
  "vscode": {
   "interpreter": {
    "hash": "ae57632980fa8e4c9571bed25e71c397dec37ed8af05aa152e4c0229ee34fd0b"
   }
  }
 },
 "nbformat": 4,
 "nbformat_minor": 2
}
