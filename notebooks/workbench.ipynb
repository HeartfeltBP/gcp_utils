{
 "cells": [
  {
   "cell_type": "code",
   "execution_count": null,
   "metadata": {},
   "outputs": [],
   "source": [
    "import typing\n",
    "import numpy as np\n",
    "import pickle as pkl\n",
    "import plotly.graph_objects as go\n",
    "from plotly.subplots import make_subplots\n",
    "from database_tools.processing.cardiac import estimate_spo2\n",
    "from database_tools.processing.detect import detect_peaks, detect_notches\n",
    "from database_tools.tools.dataset import ConfigMapper\n",
    "from gcp_utils import constants"
   ]
  },
  {
   "cell_type": "code",
   "execution_count": null,
   "metadata": {},
   "outputs": [],
   "source": [
    "def plot_data(red, ir, red_idx, ir_idx):\n",
    "    fig = make_subplots(rows=2, cols=1)\n",
    "    fig.add_scatter(y=red, name='ppg_red', row=1, col=1)\n",
    "    fig.add_scatter(x=red_idx['peaks'], y=red[red_idx['peaks']], mode='markers', row=1, col=1)\n",
    "    fig.add_scatter(x=red_idx['troughs'], y=red[red_idx['troughs']], mode='markers', row=1, col=1)\n",
    "\n",
    "    fig.add_scatter(y=ir, name='ppg_red', row=2, col=1)\n",
    "    fig.add_scatter(x=ir_idx['peaks'], y=ir[ir_idx['peaks']], mode='markers', row=2, col=1)\n",
    "    fig.add_scatter(x=ir_idx['troughs'], y=ir[ir_idx['troughs']], mode='markers', row=2, col=1)\n",
    "    fig.show()"
   ]
  },
  {
   "cell_type": "code",
   "execution_count": null,
   "metadata": {},
   "outputs": [],
   "source": [
    "frame = constants.NEW_BPM_FRAME"
   ]
  },
  {
   "cell_type": "code",
   "execution_count": null,
   "metadata": {},
   "outputs": [],
   "source": [
    "cm = ConfigMapper('/home/cam/Documents/gcp_utils/gcp_utils/config.ini')\n",
    "\n",
    "red_frame, ir_frame = frame['red_frame'], frame['ir_frame']\n",
    "\n",
    "red_clean, red_idx = _preprocess_ppg(red_frame, cm)\n",
    "ir_clean, ir_idx = _preprocess_ppg(ir_frame, cm)\n",
    "\n",
    "result = predict_cardiac_metrics(red_clean, ir_clean, red_idx, ir_idx, cm)\n",
    "\n",
    "plot_data(red_clean, ir_clean, red_idx, ir_idx)"
   ]
  },
  {
   "cell_type": "code",
   "execution_count": null,
   "metadata": {},
   "outputs": [],
   "source": [
    "result"
   ]
  },
  {
   "cell_type": "code",
   "execution_count": null,
   "metadata": {},
   "outputs": [],
   "source": [
    "red_high, red_low = 224304, 223715\n",
    "ir_high, ir_low = 244011, 242606\n",
    "\n",
    "ac_red = red_high - red_low\n",
    "ac_ir = ir_high - ir_low\n",
    "\n",
    "r = ( ac_red / red_low ) / ( ac_ir / ir_low )\n",
    "spo2 = round(104 - (17 * r), 1)\n",
    "spo2, r"
   ]
  },
  {
   "cell_type": "code",
   "execution_count": null,
   "metadata": {},
   "outputs": [],
   "source": [
    "fig = go.Figure()\n",
    "\n",
    "fig.add_scatter(y=red_frame)"
   ]
  }
 ],
 "metadata": {
  "kernelspec": {
   "display_name": "gcp-utils-lIYEkGpv-py3.9",
   "language": "python",
   "name": "python3"
  },
  "language_info": {
   "codemirror_mode": {
    "name": "ipython",
    "version": 3
   },
   "file_extension": ".py",
   "mimetype": "text/x-python",
   "name": "python",
   "nbconvert_exporter": "python",
   "pygments_lexer": "ipython3",
   "version": "3.9.16"
  },
  "orig_nbformat": 4,
  "vscode": {
   "interpreter": {
    "hash": "ae57632980fa8e4c9571bed25e71c397dec37ed8af05aa152e4c0229ee34fd0b"
   }
  }
 },
 "nbformat": 4,
 "nbformat_minor": 2
}
