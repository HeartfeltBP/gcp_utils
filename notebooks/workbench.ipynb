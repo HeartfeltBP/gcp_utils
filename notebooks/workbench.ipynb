{
 "cells": [
  {
   "cell_type": "code",
   "execution_count": null,
   "metadata": {},
   "outputs": [],
   "source": [
    "from firebase_admin import firestore, initialize_app, credentials\n",
    "from gcp_utils import constants\n",
    "\n",
    "cred = credentials.Certificate('/workspaces/github/heartfelt-0-firebase-adminsdk-unf3t-f7f484fd88.json')\n",
    "initialize_app(cred)\n",
    "database = firestore.client()\n",
    "col = database.collection(u'bpm_data')\n",
    "\n",
    "frame = constants.BPM_FRAME\n",
    "frame['target'] = 'bpm_data'"
   ]
  },
  {
   "cell_type": "code",
   "execution_count": null,
   "metadata": {},
   "outputs": [],
   "source": [
    "col.document('test_user').collection('frames').add(frame)"
   ]
  },
  {
   "cell_type": "code",
   "execution_count": null,
   "metadata": {},
   "outputs": [],
   "source": [
    "# Cam UID\n",
    "col.document('wx1jF08b3DTPijtQcwGiEwpEFai2').collection('frames').add(frame)"
   ]
  },
  {
   "cell_type": "code",
   "execution_count": null,
   "metadata": {},
   "outputs": [],
   "source": [
    "# Aslani UID\n",
    "col.document('v2iHQmPIVfVW0IuhfZ1yCIegsB52').collection('frames').add(frame)"
   ]
  }
 ],
 "metadata": {
  "kernelspec": {
   "display_name": "gcp-utils-zA-vaXwL-py3.9",
   "language": "python",
   "name": "python3"
  },
  "language_info": {
   "codemirror_mode": {
    "name": "ipython",
    "version": 3
   },
   "file_extension": ".py",
   "mimetype": "text/x-python",
   "name": "python",
   "nbconvert_exporter": "python",
   "pygments_lexer": "ipython3",
   "version": "3.9.13"
  },
  "orig_nbformat": 4,
  "vscode": {
   "interpreter": {
    "hash": "2ffc54c83bb6cdb630dcb5564767dc851aacddeabf98f24f9a8d582edea48b34"
   }
  }
 },
 "nbformat": 4,
 "nbformat_minor": 2
}
