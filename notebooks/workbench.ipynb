{
 "cells": [
  {
   "cell_type": "code",
   "execution_count": null,
   "metadata": {},
   "outputs": [],
   "source": [
    "from firebase_admin import firestore, initialize_app\n",
    "from gcp_utils import constants\n",
    "\n",
    "initialize_app()\n",
    "database = firestore.client()\n",
    "col = database.collection(u'bpm_data_test').document('wx1jF08b3DTPijtQcwGiEwpEFai2').collection('windows')"
   ]
  },
  {
   "cell_type": "code",
   "execution_count": null,
   "metadata": {},
   "outputs": [],
   "source": [
    "doc = col.document('ZFInkQAOSfXkNiCd3HCT').get().to_dict()"
   ]
  },
  {
   "cell_type": "code",
   "execution_count": null,
   "metadata": {},
   "outputs": [],
   "source": [
    "import pandas as pd\n",
    "\n",
    "abp = doc['abp']\n",
    "pd.Series(abp).plot()"
   ]
  }
 ],
 "metadata": {
  "kernelspec": {
   "display_name": "gcp-utils-lIYEkGpv-py3.9",
   "language": "python",
   "name": "python3"
  },
  "language_info": {
   "codemirror_mode": {
    "name": "ipython",
    "version": 3
   },
   "file_extension": ".py",
   "mimetype": "text/x-python",
   "name": "python",
   "nbconvert_exporter": "python",
   "pygments_lexer": "ipython3",
   "version": "3.9.16"
  },
  "orig_nbformat": 4,
  "vscode": {
   "interpreter": {
    "hash": "ae57632980fa8e4c9571bed25e71c397dec37ed8af05aa152e4c0229ee34fd0b"
   }
  }
 },
 "nbformat": 4,
 "nbformat_minor": 2
}
