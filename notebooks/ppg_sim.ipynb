{
 "cells": [
  {
   "cell_type": "code",
   "execution_count": null,
   "metadata": {},
   "outputs": [],
   "source": [
    "import numpy as np\n",
    "import pandas as pd\n",
    "from neurokit2.ppg import ppg_simulate\n",
    "from gcp_utils.tools.utils import resample_frame, split_frame\n",
    "\n",
    "pd.options.plotting.backend = 'plotly'"
   ]
  },
  {
   "cell_type": "code",
   "execution_count": null,
   "metadata": {},
   "outputs": [],
   "source": [
    "x = ppg_simulate(duration=20.48, sampling_rate=200).astype(np.float32).tolist()"
   ]
  },
  {
   "cell_type": "code",
   "execution_count": null,
   "metadata": {},
   "outputs": [],
   "source": [
    "from gcp_utils import constants\n",
    "\n",
    "processed_frame, pulse_rate, spo2, r = constants.processed_frame()\n",
    "pulse_rate, spo2, r"
   ]
  },
  {
   "cell_type": "code",
   "execution_count": null,
   "metadata": {},
   "outputs": [],
   "source": [
    "import numpy as np\n",
    "import pickle as pkl\n",
    "from typing import Tuple\n",
    "from database_tools.preprocessing.datastores import ConfigMapper, Window\n",
    "from database_tools.preprocessing.functions import bandpass\n",
    "from database_tools.preprocessing.utils import resample_signal\n",
    "\n",
    "def process_frame(red_frame, ir_frame, config):\n",
    "    cm = ConfigMapper(config)\n",
    "    red_filt = bandpass(red_frame, low=cm.freq_band[0], high=cm.freq_band[1], fs=cm.bpm_fs)\n",
    "    ir_filt = bandpass(ir_frame, low=cm.freq_band[0], high=cm.freq_band[1], fs=cm.bpm_fs)\n",
    "\n",
    "    red_filt_flip = _flip_signal(red_filt)\n",
    "    ir_filt_flip = _flip_signal(ir_filt)\n",
    "    combined = (red_filt_flip + ir_filt_flip) / 2  # averaging strategy\n",
    "\n",
    "    combined_resamp = resample_signal(sig=combined.tolist(), fs_old=cm.bpm_fs, fs_new=cm.fs)\n",
    "\n",
    "    windows = _split_frame(sig=combined_resamp, n=int(combined_resamp.shape[0] / cm.win_len))\n",
    "    result = {\n",
    "        'red_frame_for_processing': list(red_filt),\n",
    "        'ir_frame_for_processing': list(ir_filt),\n",
    "        'red_frame_for_presentation': list(red_filt_flip),\n",
    "        'ir_frame_for_presentation': list(ir_filt_flip),\n",
    "        'combined_frame_for_presentation': list(combined),\n",
    "        'windows': windows,\n",
    "    }\n",
    "    return result\n",
    "\n",
    "def _flip_signal(sig):\n",
    "    \"\"\"Flip signal data but subtracting the maximum value.\"\"\"\n",
    "    flipped = np.max(sig) - sig\n",
    "    return flipped\n",
    "\n",
    "def _split_frame(sig: np.ndarray, n: int) -> list:\n",
    "    \"\"\"Split list into n lists.\n",
    "\n",
    "    Args:\n",
    "        sig (list): Data.\n",
    "        n (int): Number of lists.\n",
    "\n",
    "    Returns:\n",
    "        n_sigs (list): Data split in to n lists.\n",
    "    \"\"\"\n",
    "    n_sigs = [s.tolist() for s in np.split(sig, n)]\n",
    "    return n_sigs"
   ]
  },
  {
   "cell_type": "code",
   "execution_count": null,
   "metadata": {},
   "outputs": [],
   "source": [
    "from gcp_utils import constants\n",
    "\n",
    "red_frame = constants.BPM_FRAME['red_frame']\n",
    "ir_frame = constants.BPM_FRAME['ir_frame']\n",
    "process_frame(red_frame, ir_frame, constants.CONFIG)"
   ]
  }
 ],
 "metadata": {
  "kernelspec": {
   "display_name": "gcp-utils-lIYEkGpv-py3.9",
   "language": "python",
   "name": "python3"
  },
  "language_info": {
   "codemirror_mode": {
    "name": "ipython",
    "version": 3
   },
   "file_extension": ".py",
   "mimetype": "text/x-python",
   "name": "python",
   "nbconvert_exporter": "python",
   "pygments_lexer": "ipython3",
   "version": "3.9.16"
  },
  "orig_nbformat": 4,
  "vscode": {
   "interpreter": {
    "hash": "ae57632980fa8e4c9571bed25e71c397dec37ed8af05aa152e4c0229ee34fd0b"
   }
  }
 },
 "nbformat": 4,
 "nbformat_minor": 2
}
