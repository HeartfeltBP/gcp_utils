{
 "cells": [
  {
   "cell_type": "code",
   "execution_count": null,
   "metadata": {},
   "outputs": [],
   "source": [
    "from gcp_utils.main import onNewSample\n",
    "\n",
    "onNewSample(data=dict(), context=None)"
   ]
  }
 ],
 "metadata": {
  "kernelspec": {
   "display_name": "functions-lIYEkGpv-py3.9",
   "language": "python",
   "name": "python3"
  },
  "language_info": {
   "codemirror_mode": {
    "name": "ipython",
    "version": 3
   },
   "file_extension": ".py",
   "mimetype": "text/x-python",
   "name": "python",
   "nbconvert_exporter": "python",
   "pygments_lexer": "ipython3",
   "version": "3.9.12"
  },
  "orig_nbformat": 4,
  "vscode": {
   "interpreter": {
    "hash": "763f0995ba62e059b23417674bf33b029f1c9cb9cbead4cd7e2a1dff2ad4dc08"
   }
  }
 },
 "nbformat": 4,
 "nbformat_minor": 2
}
