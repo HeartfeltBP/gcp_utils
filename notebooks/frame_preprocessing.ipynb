{
 "cells": [
  {
   "cell_type": "code",
   "execution_count": null,
   "metadata": {},
   "outputs": [],
   "source": [
    "import numpy as np\n",
    "import pandas as pd\n",
    "import pickle as pkl\n",
    "import plotly.graph_objects as go\n",
    "from plotly.subplots import make_subplots\n",
    "from scipy.ndimage import median_filter\n",
    "\n",
    "from database_tools.processing.modify import bandpass\n",
    "from database_tools.processing.utils import resample_signal\n",
    "\n",
    "def _clean_frame(sig, thresh):\n",
    "    \"\"\"Set points too far from median value to median value.\"\"\"\n",
    "    sig = sig.reshape(-1) # must be 1d\n",
    "    med = np.median(sig)\n",
    "    mask = np.where( (sig > (med + thresh)) | (sig < (med - thresh)) )\n",
    "    sig[mask] = med\n",
    "    return sig\n",
    "\n",
    "def _flip_signal(sig):\n",
    "    \"\"\"Flip signal data but subtracting the maximum value.\"\"\"\n",
    "    flipped = np.max(sig) - sig\n",
    "    return flipped"
   ]
  },
  {
   "cell_type": "code",
   "execution_count": null,
   "metadata": {},
   "outputs": [],
   "source": [
    "with open('bpm-frame.pkl', 'rb') as f:\n",
    "    data = pkl.load(f)\n",
    "\n",
    "red_frame = data['red_frame']\n",
    "ir_frame = data['ir_frame']"
   ]
  },
  {
   "cell_type": "code",
   "execution_count": null,
   "metadata": {},
   "outputs": [],
   "source": [
    "thresh = 2000\n",
    "low = 0.5\n",
    "high = 8.0\n",
    "size = 5\n",
    "fs = 200\n",
    "fs_new = 125"
   ]
  },
  {
   "cell_type": "code",
   "execution_count": null,
   "metadata": {},
   "outputs": [],
   "source": [
    "red_frame = np.array(red_frame, dtype=np.float32)\n",
    "red_frame[np.isnan(red_frame)] = 0\n",
    "ir_frame = np.array(ir_frame, dtype=np.float32)\n",
    "ir_frame[np.isnan(ir_frame)] = 0\n",
    "\n",
    "red_clean = _clean_frame(red_frame, thresh=thresh)\n",
    "ir_clean = _clean_frame(ir_frame, thresh=thresh)\n",
    "\n",
    "red_resamp = resample_signal(red_clean, fs_old=fs, fs_new=fs_new)\n",
    "ir_resamp = resample_signal(ir_clean, fs_old=fs, fs_new=fs_new)\n",
    "\n",
    "red_flip = _flip_signal(red_resamp)\n",
    "ir_flip = _flip_signal(ir_resamp)\n",
    "\n",
    "red_filt = bandpass(red_flip, low=low, high=high, fs=fs, method='butter')\n",
    "ir_filt = bandpass(ir_flip, low=low, high=high, fs=fs, method='butter')"
   ]
  },
  {
   "cell_type": "code",
   "execution_count": null,
   "metadata": {},
   "outputs": [],
   "source": [
    "fig = make_subplots(rows=2, cols=1)\n",
    "fig.add_scatter(y=red_frame, row=1, col=1, name='red_frame')\n",
    "fig.add_scatter(y=ir_frame, row=2, col=1, name='ir_frame')"
   ]
  },
  {
   "cell_type": "code",
   "execution_count": null,
   "metadata": {},
   "outputs": [],
   "source": [
    "fig = make_subplots(rows=2, cols=1)\n",
    "fig.add_scatter(y=red_resamp, row=1, col=1, name='red_resamp')\n",
    "fig.add_scatter(y=ir_resamp, row=2, col=1, name='ir_resamp')"
   ]
  },
  {
   "cell_type": "code",
   "execution_count": null,
   "metadata": {},
   "outputs": [],
   "source": [
    "fig = make_subplots(rows=2, cols=1)\n",
    "fig.add_scatter(y=red_clean, row=1, col=1, name='red_clean')\n",
    "fig.add_scatter(y=ir_clean, row=2, col=1, name='ir_clean')"
   ]
  },
  {
   "cell_type": "code",
   "execution_count": null,
   "metadata": {},
   "outputs": [],
   "source": [
    "fig = make_subplots(rows=2, cols=1)\n",
    "fig.add_scatter(y=red_flip, row=1, col=1, name='red_flip')\n",
    "fig.add_scatter(y=ir_flip, row=2, col=1, name='ir_flip')"
   ]
  },
  {
   "cell_type": "code",
   "execution_count": null,
   "metadata": {},
   "outputs": [],
   "source": [
    "fig = go.Figure()\n",
    "fig.add_scatter(y=red_filt, name='red_filt')\n",
    "fig.add_scatter(y=ir_filt, name='ir_filt')"
   ]
  }
 ],
 "metadata": {
  "kernelspec": {
   "display_name": "gcp-utils-lIYEkGpv-py3.9",
   "language": "python",
   "name": "python3"
  },
  "language_info": {
   "codemirror_mode": {
    "name": "ipython",
    "version": 3
   },
   "file_extension": ".py",
   "mimetype": "text/x-python",
   "name": "python",
   "nbconvert_exporter": "python",
   "pygments_lexer": "ipython3",
   "version": "3.9.16"
  },
  "orig_nbformat": 4
 },
 "nbformat": 4,
 "nbformat_minor": 2
}
