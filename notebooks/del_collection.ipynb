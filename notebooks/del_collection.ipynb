{
 "cells": [
  {
   "cell_type": "code",
   "execution_count": null,
   "metadata": {},
   "outputs": [],
   "source": [
    "import numpy as np\n",
    "import pandas as pd\n",
    "from firebase_admin import firestore, initialize_app\n",
    "\n",
    "def delete_collection(coll_ref, batch_size):\n",
    "    docs = coll_ref.list_documents(page_size=batch_size)\n",
    "    deleted = 0\n",
    "\n",
    "    for doc in docs:\n",
    "        print(f'Deleting doc {doc.id} => {doc.get().to_dict()}')\n",
    "        doc.delete()\n",
    "        deleted = deleted + 1\n",
    "\n",
    "    if deleted >= batch_size:\n",
    "        return delete_collection(coll_ref, batch_size)\n",
    "\n",
    "initialize_app()\n",
    "database = firestore.client()"
   ]
  },
  {
   "cell_type": "code",
   "execution_count": null,
   "metadata": {},
   "outputs": [],
   "source": [
    "col = database.collection(u'frames_test')\n",
    "_ = delete_collection(col, 10)\n",
    "\n",
    "col = database.collection(u'data_test')\n",
    "_ = delete_collection(col, 10)"
   ]
  }
 ],
 "metadata": {
  "kernelspec": {
   "display_name": "gcp-utils-lIYEkGpv-py3.9",
   "language": "python",
   "name": "python3"
  },
  "language_info": {
   "codemirror_mode": {
    "name": "ipython",
    "version": 3
   },
   "file_extension": ".py",
   "mimetype": "text/x-python",
   "name": "python",
   "nbconvert_exporter": "python",
   "pygments_lexer": "ipython3",
   "version": "3.9.16"
  },
  "orig_nbformat": 4,
  "vscode": {
   "interpreter": {
    "hash": "ae57632980fa8e4c9571bed25e71c397dec37ed8af05aa152e4c0229ee34fd0b"
   }
  }
 },
 "nbformat": 4,
 "nbformat_minor": 2
}
