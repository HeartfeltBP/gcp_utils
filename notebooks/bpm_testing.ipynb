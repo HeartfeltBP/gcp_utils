{
 "cells": [
  {
   "cell_type": "code",
   "execution_count": null,
   "metadata": {},
   "outputs": [],
   "source": [
    "import os\n",
    "import numpy as np\n",
    "import pandas as pd\n",
    "import pickle as pkl\n",
    "from gcp_utils import constants\n",
    "from gcp_utils.tools.utils import format_as_json\n",
    "from firebase_admin import firestore, initialize_app\n",
    "from database_tools.tools.dataset import ConfigMapper\n",
    "from gcp_utils.tools import preprocess, predict, utils\n",
    "from plotly.subplots import make_subplots\n",
    "from alive_progress import alive_bar\n",
    "\n",
    "os.chdir('/home/cam/Documents/gcp_utils/')\n",
    "\n",
    "pd.options.plotting.backend = 'plotly'\n",
    "\n",
    "initialize_app()\n",
    "database = firestore.client()\n",
    "col = database.collection(u'bpm_data_test').document('wx1jF08b3DTPijtQcwGiEwpEFai2').collection('frames')"
   ]
  },
  {
   "cell_type": "code",
   "execution_count": null,
   "metadata": {},
   "outputs": [],
   "source": [
    "cm = ConfigMapper(constants.CONFIG_PATH)\n",
    "\n",
    "processed_frames = []\n",
    "processed_windows = []\n",
    "\n",
    "with alive_bar(force_tty=True, title_length=25) as bar:\n",
    "    for i, doc in enumerate(col.stream()):\n",
    "        bar.title('processing frame...')\n",
    "        frame_data = doc.to_dict()\n",
    "\n",
    "        processed = preprocess.process_frame(frame_data['red_frame'], frame_data['ir_frame'], cm=cm)\n",
    "        cardiac_metrics = predict.predict_cardiac_metrics(\n",
    "            red=processed['red_frame_for_processing'],\n",
    "            ir=processed['ir_frame_for_processing'],\n",
    "            cm=cm,\n",
    "        )\n",
    "        windows = [s for s in utils.generate_window_document(processed['windows'], frame_data['fid'])]\n",
    "        frame_data.update({\n",
    "            'status': 'processed',\n",
    "            'red_frame_for_processing': processed['red_frame_for_processing'],\n",
    "            'ir_frame_for_processing': processed['ir_frame_for_processing'],\n",
    "            'red_frame_for_presentation': processed['red_frame_for_presentation'],\n",
    "            'ir_frame_for_presentation': processed['ir_frame_for_presentation'],\n",
    "            'combined_frame_for_processing': processed['combined_frame_for_processing'],\n",
    "            'combined_frame_for_presentation': processed['combined_frame_for_presentation'],\n",
    "            'pulse_rate': cardiac_metrics['pulse_rate'],\n",
    "            'spo2': cardiac_metrics['spo2'],\n",
    "            'r': cardiac_metrics['r'],\n",
    "        })\n",
    "        processed_frames.append(frame_data)\n",
    "\n",
    "        for w in windows:\n",
    "            bar.title('validating window...')\n",
    "            window_data = w\n",
    "            result = preprocess.validate_window(window_data['ppg'], cm, force_valid=True)\n",
    "            window_data.update({\n",
    "                'status': result['status'],\n",
    "                'vpg': result['vpg'],\n",
    "                'apg': result['apg'],\n",
    "                'ppg_scaled': result['ppg_scaled'],\n",
    "                'vpg_scaled': result['vpg_scaled'],\n",
    "                'apg_scaled': result['apg_scaled'],\n",
    "                'f0': result['f0'],\n",
    "                'snr': result['snr'],\n",
    "                'beat_sim': result['beat_sim'],\n",
    "            })\n",
    "\n",
    "            if result['status'] == 'valid':\n",
    "                bar.title('predicting...')\n",
    "                result = predict.predict_bp(format_as_json(window_data)[0], cm)\n",
    "                window_data.update({\n",
    "                    'status': 'predicted',\n",
    "                    'abp': result['abp'],\n",
    "                })\n",
    "            processed_windows.append(window_data)\n",
    "            bar()"
   ]
  },
  {
   "cell_type": "code",
   "execution_count": null,
   "metadata": {},
   "outputs": [],
   "source": [
    "frame = [x['red_frame'] for x in processed_frames if x['status'] == 'processed']\n",
    "n = len(frame)\n",
    "\n",
    "fig = make_subplots(rows=n, cols=1)\n",
    "for i, sig in enumerate(frame):\n",
    "    fig.add_scatter(y=sig, row=i+1, col=1)\n",
    "\n",
    "fig.update_layout(\n",
    "    height=4000\n",
    ")"
   ]
  },
  {
   "cell_type": "code",
   "execution_count": null,
   "metadata": {},
   "outputs": [],
   "source": [
    "ppg = [x['ppg'] for x in processed_windows if x['status'] == 'predicted']\n",
    "n = len(ppg)\n",
    "\n",
    "fig = make_subplots(rows=n, cols=2)\n",
    "for i, sig in enumerate(ppg):\n",
    "    fig.add_scatter(y=sig, row=i+1, col=1, name=f'ppg_{i}')\n",
    "\n",
    "abp = [x['abp'] for x in processed_windows if x['status'] == 'predicted']\n",
    "n = len(abp)\n",
    "\n",
    "for i, sig in enumerate(abp):\n",
    "    fig.add_scatter(y=sig, row=i+1, col=2, name=f'pred_{i}')\n",
    "\n",
    "fig.update_layout(\n",
    "    width=1200,\n",
    "    height=10000\n",
    ")"
   ]
  },
  {
   "cell_type": "code",
   "execution_count": null,
   "metadata": {},
   "outputs": [],
   "source": [
    "x = np.array([x['ppg'] for x in processed_windows if np.max(x['ppg']) < 10000])\n",
    "min_ = np.min(x)\n",
    "max_ = np.max(x)\n",
    "\n",
    "# min_ = 0\n",
    "# max_ = 5600\n",
    "\n",
    "# with open('../gcp_utils/bpm_scaler.pkl', 'wb') as f:\n",
    "#     pkl.dump((min_, max_), f)\n",
    "\n",
    "min_, max_"
   ]
  },
  {
   "cell_type": "code",
   "execution_count": null,
   "metadata": {},
   "outputs": [],
   "source": [
    "_ = [print(x['snr']) for x in processed_windows]"
   ]
  },
  {
   "cell_type": "code",
   "execution_count": null,
   "metadata": {},
   "outputs": [],
   "source": [
    "_ = [print(x['f0']) for x in processed_windows]"
   ]
  },
  {
   "cell_type": "code",
   "execution_count": null,
   "metadata": {},
   "outputs": [],
   "source": [
    "_ = [print(x['beat_sim']) for x in processed_windows]"
   ]
  },
  {
   "cell_type": "code",
   "execution_count": null,
   "metadata": {},
   "outputs": [],
   "source": [
    "_ = [print(x['notches']) for x in processed_windows]"
   ]
  },
  {
   "cell_type": "code",
   "execution_count": null,
   "metadata": {},
   "outputs": [],
   "source": [
    "_ = [print(x['flat_lines']) for x in processed_windows]"
   ]
  }
 ],
 "metadata": {
  "kernelspec": {
   "display_name": "gcp-utils-lIYEkGpv-py3.9",
   "language": "python",
   "name": "python3"
  },
  "language_info": {
   "codemirror_mode": {
    "name": "ipython",
    "version": 3
   },
   "file_extension": ".py",
   "mimetype": "text/x-python",
   "name": "python",
   "nbconvert_exporter": "python",
   "pygments_lexer": "ipython3",
   "version": "3.9.16"
  },
  "orig_nbformat": 4
 },
 "nbformat": 4,
 "nbformat_minor": 2
}
