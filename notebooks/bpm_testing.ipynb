{
 "cells": [
  {
   "cell_type": "code",
   "execution_count": null,
   "metadata": {},
   "outputs": [],
   "source": [
    "import os\n",
    "import pandas as pd\n",
    "import numpy as np\n",
    "from gcp_utils import constants\n",
    "from gcp_utils.tools.utils import format_as_json\n",
    "from firebase_admin import firestore, initialize_app\n",
    "from database_tools.tools.dataset import ConfigMapper\n",
    "from gcp_utils.tools import preprocess, predict\n",
    "from plotly.subplots import make_subplots\n",
    "\n",
    "os.chdir('/home/cam/Documents/gcp_utils/')\n",
    "\n",
    "pd.options.plotting.backend = 'plotly'\n",
    "\n",
    "initialize_app()\n",
    "database = firestore.client()\n",
    "col = database.collection(u'bpm_data_test').document('wx1jF08b3DTPijtQcwGiEwpEFai2').collection('windows')"
   ]
  },
  {
   "cell_type": "code",
   "execution_count": null,
   "metadata": {},
   "outputs": [],
   "source": [
    "cm = ConfigMapper(constants.CONFIG_PATH)\n",
    "\n",
    "processed_windows = []\n",
    "for i, doc in enumerate(col.stream()):\n",
    "    data = doc.to_dict()\n",
    "    if data['fid'] == '0':\n",
    "        # print(i)\n",
    "        result = preprocess.validate_window(data['ppg'], cm)\n",
    "        print(result['flat_lines'])\n",
    "        data.update({\n",
    "            'status': result['status'],\n",
    "            'vpg': result['vpg'],\n",
    "            'apg': result['apg'],\n",
    "            'ppg_scaled': result['ppg_scaled'],\n",
    "            'vpg_scaled': result['vpg_scaled'],\n",
    "            'apg_scaled': result['apg_scaled'],\n",
    "            'f0': result['f0'],\n",
    "            'snr': result['snr'],\n",
    "            'beat_sim': result['beat_sim'],\n",
    "        })\n",
    "\n",
    "        if result['status'] == 'valid':\n",
    "            result = predict.predict_bp(format_as_json(data)[0], cm)\n",
    "            data.update({\n",
    "                'status': 'predicted',\n",
    "                'abp': result['abp'],\n",
    "            })\n",
    "        processed_windows.append(data)"
   ]
  },
  {
   "cell_type": "code",
   "execution_count": null,
   "metadata": {},
   "outputs": [],
   "source": [
    "abp = [x['abp'] for x in processed_windows if x['status'] == 'predicted']\n",
    "n = len(abp)\n",
    "\n",
    "fig = make_subplots(rows=n, cols=1)\n",
    "for i, sig in enumerate(abp):\n",
    "    fig.add_scatter(y=sig, row=i+1, col=1)\n",
    "\n",
    "fig"
   ]
  },
  {
   "cell_type": "code",
   "execution_count": null,
   "metadata": {},
   "outputs": [],
   "source": [
    "_ = [print(x['snr']) for x in processed_windows]"
   ]
  },
  {
   "cell_type": "code",
   "execution_count": null,
   "metadata": {},
   "outputs": [],
   "source": [
    "_ = [print(x['f0']) for x in processed_windows]"
   ]
  },
  {
   "cell_type": "code",
   "execution_count": null,
   "metadata": {},
   "outputs": [],
   "source": [
    "_ = [print(x['beat_sim']) for x in processed_windows]"
   ]
  },
  {
   "cell_type": "code",
   "execution_count": null,
   "metadata": {},
   "outputs": [],
   "source": [
    "_ = [print(x['notches']) for x in processed_windows]"
   ]
  },
  {
   "cell_type": "code",
   "execution_count": null,
   "metadata": {},
   "outputs": [],
   "source": [
    "_ = [print(x['flat_lines']) for x in processed_windows]"
   ]
  },
  {
   "cell_type": "code",
   "execution_count": 1,
   "metadata": {},
   "outputs": [
    {
     "data": {
      "text/plain": [
       "{'ppg': [-2.249856145511213, 2.69603838256137],\n",
       " 'vpg': [-0.372188387766646, 0.370462679133298],\n",
       " 'apg': [-0.05386925717992602, 0.053661839878867246]}"
      ]
     },
     "execution_count": 1,
     "metadata": {},
     "output_type": "execute_result"
    }
   ],
   "source": [
    "import pickle as pkl\n",
    "\n",
    "with open('../gcp_utils/records_info_1681057902025860479.pkl', 'rb') as f:\n",
    "    scalers, _ = pkl.load(f)\n",
    "scalers"
   ]
  }
 ],
 "metadata": {
  "kernelspec": {
   "display_name": "gcp-utils-lIYEkGpv-py3.9",
   "language": "python",
   "name": "python3"
  },
  "language_info": {
   "codemirror_mode": {
    "name": "ipython",
    "version": 3
   },
   "file_extension": ".py",
   "mimetype": "text/x-python",
   "name": "python",
   "nbconvert_exporter": "python",
   "pygments_lexer": "ipython3",
   "version": "3.9.16"
  },
  "orig_nbformat": 4
 },
 "nbformat": 4,
 "nbformat_minor": 2
}
