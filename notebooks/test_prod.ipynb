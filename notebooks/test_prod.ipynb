{
 "cells": [
  {
   "cell_type": "code",
   "execution_count": null,
   "metadata": {},
   "outputs": [],
   "source": [
    "from gcp_utils import constants\n",
    "from firebase_admin import firestore, initialize_app\n",
    "from gcp_utils.tools.utils import query_collection\n",
    "\n",
    "initialize_app()\n",
    "\n",
    "UID = 'wx1jF08b3DTPijtQcwGiEwpEFai2'"
   ]
  },
  {
   "cell_type": "code",
   "execution_count": null,
   "metadata": {},
   "outputs": [],
   "source": [
    "# get all frames and windows in a user collection\n",
    "\n",
    "database = firestore.client()\n",
    "frames_ref = database.collection(f'bpm_data/{UID}/frames')\n",
    "windows_ref = database.collection(f'bpm_data/{UID}/windows')\n",
    "\n",
    "docs = query_collection(frames_ref, 'status', '==', 'processed')\n",
    "frames = [d.to_dict() for d in docs]\n",
    "\n",
    "docs = query_collection(windows_ref, 'status', '==', 'predicted')\n",
    "windows = [d.to_dict() for d in docs]\n",
    "docs = query_collection(windows_ref, 'status', '==', 'invalid')\n",
    "for d in docs:\n",
    "    windows.append(d.to_dict())"
   ]
  },
  {
   "cell_type": "code",
   "execution_count": null,
   "metadata": {},
   "outputs": [],
   "source": [
    "import pickle as pkl\n",
    "\n",
    "with open(None, 'wb') as f:\n",
    "    pkl.dump(dict(windows=windows, frames=frames), f)"
   ]
  },
  {
   "cell_type": "code",
   "execution_count": null,
   "metadata": {},
   "outputs": [],
   "source": [
    "database = firestore.client()\n",
    "frames_ref = database.collection(f'bpm_data/{UID}/frames')\n",
    "\n",
    "# Add document with no status\n",
    "frame = constants.NEW_BPM_FRAME\n",
    "frame.update({'status': ''})\n",
    "frames_ref.add(frame)\n",
    "\n",
    " # Update status to trigger\n",
    "doc = query_collection(frames_ref, 'fid', '==', '0')[0]\n",
    "doc_ref = database.collection(f'bpm_data/{UID}/frames').document(doc.id)\n",
    "doc_ref.update({'status': 'new'}) "
   ]
  },
  {
   "cell_type": "code",
   "execution_count": null,
   "metadata": {},
   "outputs": [],
   "source": [
    "import numpy as np\n",
    "from database_tools.processing.detect import detect_peaks\n",
    "\n",
    "database = firestore.client()\n",
    "windows_ref = database.collection(f'bpm_data/{UID}/windows')\n",
    "\n",
    "docs = query_collection(windows_ref, 'status', '==', 'predicted')\n",
    "for d in docs:\n",
    "    data = d.to_dict()\n",
    "    abp = data['abp']\n",
    "    peaks, troughs = detect_peaks(abp).values()\n",
    "    print(f'sbp = {np.mean(np.array(abp)[peaks])}, sbp = {np.mean(np.array(abp)[troughs])}')"
   ]
  },
  {
   "cell_type": "code",
   "execution_count": null,
   "metadata": {},
   "outputs": [],
   "source": [
    "import pickle as pkl\n",
    "\n",
    "with open('bpm_scaler.pkl', 'wb') as f:\n",
    "    pkl.dump((0, 5600), f)"
   ]
  }
 ],
 "metadata": {
  "kernelspec": {
   "display_name": "gcp-utils-lIYEkGpv-py3.9",
   "language": "python",
   "name": "python3"
  },
  "language_info": {
   "codemirror_mode": {
    "name": "ipython",
    "version": 3
   },
   "file_extension": ".py",
   "mimetype": "text/x-python",
   "name": "python",
   "nbconvert_exporter": "python",
   "pygments_lexer": "ipython3",
   "version": "3.9.16"
  },
  "orig_nbformat": 4
 },
 "nbformat": 4,
 "nbformat_minor": 2
}
