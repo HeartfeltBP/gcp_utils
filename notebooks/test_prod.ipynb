{
 "cells": [
  {
   "cell_type": "code",
   "execution_count": null,
   "metadata": {},
   "outputs": [],
   "source": [
    "from gcp_utils import constants\n",
    "from firebase_admin import firestore, initialize_app\n",
    "from gcp_utils.tools.utils import query_collection\n",
    "\n",
    "initialize_app()\n",
    "\n",
    "UID = 'v2iHQmPIVfVW0IuhfZ1yCIegsB52'"
   ]
  },
  {
   "cell_type": "code",
   "execution_count": null,
   "metadata": {},
   "outputs": [],
   "source": [
    "database = firestore.client()\n",
    "frames_ref = database.collection(f'bpm_data/{UID}/frames')\n",
    "\n",
    "# Add document with no status\n",
    "frame = constants.NEW_BPM_FRAME\n",
    "frame.update({'status': ''})\n",
    "frames_ref.add(frame)\n",
    "\n",
    " # Update status to trigger\n",
    "doc = query_collection(frames_ref, 'fid', '==', '0')[0]\n",
    "doc_ref = database.collection(f'bpm_data/{UID}/frames').document(doc.id)\n",
    "doc_ref.update({'status': 'new'}) "
   ]
  }
 ],
 "metadata": {
  "kernelspec": {
   "display_name": "gcp-utils-lIYEkGpv-py3.9",
   "language": "python",
   "name": "python3"
  },
  "language_info": {
   "codemirror_mode": {
    "name": "ipython",
    "version": 3
   },
   "file_extension": ".py",
   "mimetype": "text/x-python",
   "name": "python",
   "nbconvert_exporter": "python",
   "pygments_lexer": "ipython3",
   "version": "3.9.16"
  },
  "orig_nbformat": 4
 },
 "nbformat": 4,
 "nbformat_minor": 2
}
