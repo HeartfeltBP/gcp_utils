{
 "cells": [
  {
   "cell_type": "code",
   "execution_count": null,
   "metadata": {},
   "outputs": [],
   "source": [
    "import numpy as np\n",
    "import pickle as pkl\n",
    "from database_tools.processing.cardiac import estimate_pulse_rate, estimate_spo2\n",
    "from database_tools.processing.detect import detect_peaks\n",
    "from database_tools.tools.dataset import ConfigMapper\n",
    "from plotly.subplots import make_subplots\n",
    "\n",
    "from gcp_utils.tools.preprocess import _clean_frame, _split_frame\n",
    "from gcp_utils.tools.predict import predict_cardiac_metrics"
   ]
  },
  {
   "cell_type": "code",
   "execution_count": null,
   "metadata": {},
   "outputs": [],
   "source": [
    "cm = ConfigMapper('/home/cam/Documents/gcp_utils/gcp_utils/config.ini')\n",
    "\n",
    "with open('bpm-frame.pkl', 'rb') as f:\n",
    "    data = pkl.load(f)\n",
    "\n",
    "red_frame = data['red_frame']\n",
    "ir_frame = data['ir_frame']\n",
    "\n",
    "red_frame = np.array(red_frame, dtype=np.float32)\n",
    "red_frame[np.isnan(red_frame)] = 0\n",
    "ir_frame = np.array(ir_frame, dtype=np.float32)\n",
    "ir_frame[np.isnan(ir_frame)] = 0\n",
    "\n",
    "# 2\n",
    "red_clean = _clean_frame(red_frame, thresh=cm.deploy.clean_thresh)\n",
    "ir_clean = _clean_frame(ir_frame, thresh=cm.deploy.clean_thresh)"
   ]
  },
  {
   "cell_type": "code",
   "execution_count": null,
   "metadata": {},
   "outputs": [],
   "source": [
    "fig = make_subplots(rows=2, cols=1)\n",
    "fig.add_scatter(y=red_clean, row=1, col=1, name='red')\n",
    "fig.add_scatter(y=ir_clean, row=2, col=1, name='ir')"
   ]
  },
  {
   "cell_type": "code",
   "execution_count": null,
   "metadata": {},
   "outputs": [],
   "source": [
    "predict_cardiac_metrics(red_clean, ir_clean, cm=cm)"
   ]
  },
  {
   "cell_type": "code",
   "execution_count": null,
   "metadata": {},
   "outputs": [],
   "source": [
    "red_idx, ir_idx = predict_cardiac_metrics(red_clean, ir_clean, cm=cm)\n",
    "red_peaks, red_troughs = red_idx.values()\n",
    "ir_peaks, ir_troughs = ir_idx.values()"
   ]
  },
  {
   "cell_type": "code",
   "execution_count": null,
   "metadata": {},
   "outputs": [],
   "source": [
    "fig = make_subplots(rows=2, cols=1)\n",
    "fig.add_scatter(y=red_clean, row=1, col=1, name='red')\n",
    "fig.add_scatter(x=red_peaks, y=red_clean[red_peaks], row=1, col=1, mode='markers', name='red')\n",
    "fig.add_scatter(x=red_troughs, y=red_clean[red_troughs], row=1, col=1, mode='markers', name='red')\n",
    "\n",
    "fig.add_scatter(y=ir_clean, row=2, col=1, name='red')\n",
    "fig.add_scatter(x=ir_peaks, y=ir_clean[ir_peaks], row=2, col=1, mode='markers', name='ir')\n",
    "fig.add_scatter(x=ir_troughs, y=ir_clean[ir_troughs], row=2, col=1, mode='markers', name='ir')"
   ]
  }
 ],
 "metadata": {
  "kernelspec": {
   "display_name": "gcp-utils-lIYEkGpv-py3.9",
   "language": "python",
   "name": "python3"
  },
  "language_info": {
   "codemirror_mode": {
    "name": "ipython",
    "version": 3
   },
   "file_extension": ".py",
   "mimetype": "text/x-python",
   "name": "python",
   "nbconvert_exporter": "python",
   "pygments_lexer": "ipython3",
   "version": "3.9.16"
  },
  "orig_nbformat": 4
 },
 "nbformat": 4,
 "nbformat_minor": 2
}
