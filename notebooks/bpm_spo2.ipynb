{
 "cells": [
  {
   "cell_type": "code",
   "execution_count": null,
   "metadata": {},
   "outputs": [],
   "source": [
    "import numpy as np\n",
    "import pickle as pkl\n",
    "from database_tools.processing.cardiac import estimate_pulse_rate, estimate_spo2\n",
    "from database_tools.processing.detect import detect_peaks\n",
    "from database_tools.tools.dataset import ConfigMapper\n",
    "from gcp_utils.tools.preprocess import _clean_frame, _split_frame\n",
    "from plotly.subplots import make_subplots\n",
    "\n",
    "def clean_peaks_spo2(sig, idx, thresh):\n",
    "    peaks, troughs = idx.values()\n",
    "    peak_vals = sig[peaks]\n",
    "    trough_vals = sig[troughs]\n",
    "\n",
    "    mean = np.mean(peak_vals)\n",
    "    mask = np.where( (peak_vals < (mean + thresh)) & (peak_vals > (mean - thresh)) )\n",
    "    peaks_cleaned = peaks[mask]\n",
    "\n",
    "    mean = np.mean(trough_vals)\n",
    "    mask = np.where( (trough_vals < (mean + thresh)) & (trough_vals > (mean - thresh)) )\n",
    "    troughs_cleaned = troughs[mask]\n",
    "    return dict(peaks=peaks_cleaned, troughs=troughs_cleaned)\n",
    "\n",
    "def predict_cardiac_metrics(red: list, ir: list, cm: ConfigMapper) -> dict:\n",
    "    i = 1\n",
    "    red = _split_frame(red, 4, dtype='ndarray')[i]\n",
    "    ir = _split_frame(ir, 4, dtype='ndarray')[i]\n",
    "\n",
    "    red_idx = detect_peaks(np.array(red))\n",
    "    ir_idx = detect_peaks(np.array(ir))\n",
    "\n",
    "    red_idx = clean_peaks_spo2(red, red_idx, 1000)\n",
    "    ir_idx = clean_peaks_spo2(ir, ir_idx, 1000)\n",
    "    # return red_idx, ir_idx\n",
    "\n",
    "    pulse_rate = estimate_pulse_rate(red, ir, red_idx, ir_idx, fs=cm.deploy.bpm_fs)\n",
    "    spo2, r = estimate_spo2(red, ir, red_idx, ir_idx)\n",
    "    result = {\n",
    "        'pulse_rate': int(pulse_rate),\n",
    "        'spo2': float(spo2),\n",
    "        'r': float(r)\n",
    "    }\n",
    "    return result"
   ]
  },
  {
   "cell_type": "code",
   "execution_count": null,
   "metadata": {},
   "outputs": [],
   "source": [
    "with open('bpm-frame.pkl', 'rb') as f:\n",
    "    data = pkl.load(f)\n",
    "\n",
    "red_frame = data['red_frame']\n",
    "ir_frame = data['ir_frame']\n",
    "\n",
    "cm = ConfigMapper('/home/cam/Documents/gcp_utils/gcp_utils/config.ini')"
   ]
  },
  {
   "cell_type": "code",
   "execution_count": null,
   "metadata": {},
   "outputs": [],
   "source": [
    "thresh = 2000\n",
    "\n",
    "red_clean = _clean_frame(np.array(red_frame), thresh=thresh)\n",
    "ir_clean = _clean_frame(np.array(ir_frame), thresh=thresh)"
   ]
  },
  {
   "cell_type": "code",
   "execution_count": null,
   "metadata": {},
   "outputs": [],
   "source": [
    "predict_cardiac_metrics(red_clean, ir_clean, cm=cm)"
   ]
  },
  {
   "cell_type": "code",
   "execution_count": null,
   "metadata": {},
   "outputs": [],
   "source": [
    "red_idx, ir_idx = predict_cardiac_metrics(red_clean, ir_clean, cm=cm)\n",
    "red_peaks, red_troughs = red_idx.values()\n",
    "ir_peaks, ir_troughs = ir_idx.values()"
   ]
  },
  {
   "cell_type": "code",
   "execution_count": null,
   "metadata": {},
   "outputs": [],
   "source": [
    "fig = make_subplots(rows=2, cols=1)\n",
    "fig.add_scatter(y=red_clean, row=1, col=1, name='red')\n",
    "fig.add_scatter(x=red_peaks, y=red_clean[red_peaks], row=1, col=1, mode='markers', name='red')\n",
    "fig.add_scatter(x=red_troughs, y=red_clean[red_troughs], row=1, col=1, mode='markers', name='red')\n",
    "\n",
    "fig.add_scatter(y=ir_clean, row=2, col=1, name='red')\n",
    "fig.add_scatter(x=ir_peaks, y=ir_clean[ir_peaks], row=2, col=1, mode='markers', name='ir')\n",
    "fig.add_scatter(x=ir_troughs, y=ir_clean[ir_troughs], row=2, col=1, mode='markers', name='ir')"
   ]
  }
 ],
 "metadata": {
  "kernelspec": {
   "display_name": "gcp-utils-lIYEkGpv-py3.9",
   "language": "python",
   "name": "python3"
  },
  "language_info": {
   "codemirror_mode": {
    "name": "ipython",
    "version": 3
   },
   "file_extension": ".py",
   "mimetype": "text/x-python",
   "name": "python",
   "nbconvert_exporter": "python",
   "pygments_lexer": "ipython3",
   "version": "3.9.16"
  },
  "orig_nbformat": 4
 },
 "nbformat": 4,
 "nbformat_minor": 2
}
